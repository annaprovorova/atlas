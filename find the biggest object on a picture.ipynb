{
 "cells": [
  {
   "cell_type": "code",
   "execution_count": 5,
   "metadata": {},
   "outputs": [
    {
     "name": "stdout",
     "output_type": "stream",
     "text": [
      "Collecting opencv-python\n",
      "  Obtaining dependency information for opencv-python from https://files.pythonhosted.org/packages/38/d2/3e8c13ffc37ca5ebc6f382b242b44acb43eb489042e1728407ac3904e72f/opencv_python-4.8.1.78-cp37-abi3-win_amd64.whl.metadata\n",
      "  Using cached opencv_python-4.8.1.78-cp37-abi3-win_amd64.whl.metadata (20 kB)\n",
      "Requirement already satisfied: numpy>=1.21.2 in c:\\programdata\\anaconda3\\envs\\appoplexy\\lib\\site-packages (from opencv-python) (1.25.2)\n",
      "Using cached opencv_python-4.8.1.78-cp37-abi3-win_amd64.whl (38.1 MB)\n",
      "Installing collected packages: opencv-python\n",
      "Successfully installed opencv-python-4.8.1.78\n",
      "Note: you may need to restart the kernel to use updated packages.\n"
     ]
    }
   ],
   "source": [
    "# %pip install opencv-python"
   ]
  },
  {
   "cell_type": "code",
   "execution_count": 15,
   "metadata": {},
   "outputs": [
    {
     "ename": "error",
     "evalue": "OpenCV(4.8.1) D:\\a\\opencv-python\\opencv-python\\opencv\\modules\\imgproc\\src\\color.cpp:182: error: (-215:Assertion failed) !_src.empty() in function 'cv::cvtColor'\n",
     "output_type": "error",
     "traceback": [
      "\u001b[1;31m---------------------------------------------------------------------------\u001b[0m",
      "\u001b[1;31merror\u001b[0m                                     Traceback (most recent call last)",
      "Cell \u001b[1;32mIn[15], line 7\u001b[0m\n\u001b[0;32m      4\u001b[0m \u001b[39m# load image\u001b[39;00m\n\u001b[0;32m      5\u001b[0m img \u001b[39m=\u001b[39m cv2\u001b[39m.\u001b[39mimread(\u001b[39m'\u001b[39m\u001b[39m00a0b3a7e5.png\u001b[39m\u001b[39m'\u001b[39m)\n\u001b[1;32m----> 7\u001b[0m gray \u001b[39m=\u001b[39m cv2\u001b[39m.\u001b[39;49mcvtColor(img, cv2\u001b[39m.\u001b[39;49mCOLOR_BGR2GRAY)\n\u001b[0;32m      9\u001b[0m \u001b[39m# threshold \u001b[39;00m\n\u001b[0;32m     10\u001b[0m thresh \u001b[39m=\u001b[39m cv2\u001b[39m.\u001b[39mthreshold(gray, \u001b[39m0\u001b[39m, \u001b[39m255\u001b[39m, cv2\u001b[39m.\u001b[39mTHRESH_BINARY\u001b[39m+\u001b[39mcv2\u001b[39m.\u001b[39mTHRESH_OTSU)[\u001b[39m1\u001b[39m]\n",
      "\u001b[1;31merror\u001b[0m: OpenCV(4.8.1) D:\\a\\opencv-python\\opencv-python\\opencv\\modules\\imgproc\\src\\color.cpp:182: error: (-215:Assertion failed) !_src.empty() in function 'cv::cvtColor'\n"
     ]
    }
   ],
   "source": [
    "import cv2\n",
    "import numpy as np\n",
    "\n",
    "# load image\n",
    "img = cv2.imread('00a0b3a7e5.png')\n",
    "\n",
    "gray = cv2.cvtColor(img, cv2.COLOR_BGR2GRAY)\n",
    "\n",
    "# threshold \n",
    "thresh = cv2.threshold(gray, 0, 255, cv2.THRESH_BINARY+cv2.THRESH_OTSU)[1]\n",
    "\n"
   ]
  },
  {
   "cell_type": "code",
   "execution_count": 13,
   "metadata": {},
   "outputs": [],
   "source": [
    "# Variant 1\n",
    "def cropp(thresh, name):\n",
    "    # apply morphology\n",
    "    kernel = cv2.getStructuringElement(cv2.MORPH_RECT, (3, 3))\n",
    "    thresh = cv2.morphologyEx(thresh, cv2.MORPH_CLOSE, kernel)\n",
    "\n",
    "    # get external contour\n",
    "    contours = cv2.findContours(thresh, cv2.RETR_EXTERNAL, cv2.CHAIN_APPROX_SIMPLE)\n",
    "    contours = contours[0] if len(contours) == 2 else contours[1]\n",
    "    big_contour = max(contours, key=cv2.contourArea)\n",
    "\n",
    "    # draw white filled contour on black background as mask\n",
    "    mask = np.zeros_like(thresh, dtype=np.uint8)\n",
    "    cv2.drawContours(mask, [big_contour], 0, 255, -1)\n",
    "\n",
    "    # get bounds of contour\n",
    "    x,y,w,h = cv2.boundingRect(big_contour)\n",
    "\n",
    "    # crop image and mask\n",
    "    img_crop = img[y:y+h, x:x+w]\n",
    "    mask_crop = mask[y:y+h, x:x+w]\n",
    "\n",
    "    # put mask in alpha channel of image\n",
    "    result = cv2.cvtColor(img_crop, cv2.COLOR_BGR2BGRA)\n",
    "    result[:,:,3] = mask_crop\n",
    "\n",
    "    # save resulting masked image\n",
    "    # cv2.imwrite(f'mri_thresh_{name}.png', thresh)\n",
    "    # print(f'.\\sample\\mri_cropped_{name}')\n",
    "    cv2.imwrite(f'mri_cropped_{name}', result)\n",
    "    # cv2.imshow(\"result2\", img_crop)\n",
    "    # cv2.imwrite(f'mri_cropped_alpha_{name}.png', result)"
   ]
  },
  {
   "cell_type": "code",
   "execution_count": null,
   "metadata": {},
   "outputs": [],
   "source": [
    "# # alternate erode mask\n",
    "\n",
    "# kernel = cv2.getStructuringElement(cv2.MORPH_ELLIPSE, (11,11))\n",
    "# thresh2 = cv2.morphologyEx(mask, cv2.MORPH_ERODE, kernel)\n",
    "\n",
    "# # get external contour\n",
    "# contours2 = cv2.findContours(thresh2, cv2.RETR_EXTERNAL, cv2.CHAIN_APPROX_SIMPLE)\n",
    "# contours2 = contours2[0] if len(contours2) == 2 else contours2[1]\n",
    "# big_contour2 = max(contours2, key=cv2.contourArea)\n",
    "\n",
    "# # draw white filled contour on black background as mask\n",
    "# mask2 = np.zeros_like(thresh2, dtype=np.uint8)\n",
    "# cv2.drawContours(mask2, [big_contour2], 0, 255, -1)\n",
    "\n",
    "# # get bounds of contour\n",
    "# x,y,w,h = cv2.boundingRect(big_contour2)\n",
    "\n",
    "# # crop image and mask\n",
    "# img_crop2 = img[y:y+h, x:x+w]\n",
    "# mask_crop2 = mask2[y:y+h, x:x+w]\n",
    "\n",
    "# # put mask in alpha channel of image\n",
    "# result2 = cv2.cvtColor(img_crop2, cv2.COLOR_BGR2BGRA)\n",
    "# result2[:,:,3] = mask_crop2\n"
   ]
  },
  {
   "cell_type": "code",
   "execution_count": null,
   "metadata": {},
   "outputs": [],
   "source": [
    "# save results\n",
    "cv2.imwrite(\"mri_thresh.png\", thresh)\n",
    "cv2.imwrite(\"mri_cropped.png\", img_crop)\n",
    "cv2.imwrite(\"mri_cropped_alpha.png\", result)\n",
    "cv2.imwrite(\"mri_thresh2.png\", thresh2)\n",
    "cv2.imwrite(\"mri_cropped2.png\", img_crop2)\n",
    "cv2.imwrite(\"mri_cropped_alpha2.png\", result2)\n",
    "\n",
    "# display result\n",
    "# cv2.imshow(\"thresh\", thresh)\n",
    "# cv2.imshow(\"mask\", mask)\n",
    "# cv2.imshow(\"result\", result)\n",
    "# cv2.imshow(\"thresh2\", thresh2)\n",
    "# cv2.imshow(\"mask2\", mask2)\n",
    "cv2.imshow(\"result2\", result2)\n",
    "cv2.waitKey(0)\n",
    "cv2.destroyAllWindows()"
   ]
  },
  {
   "cell_type": "code",
   "execution_count": 17,
   "metadata": {},
   "outputs": [
    {
     "name": "stdout",
     "output_type": "stream",
     "text": [
      "(1280, 576, 3)\n",
      "(1280, 960, 3)\n",
      "(580, 528, 3)\n",
      "(1280, 960, 3)\n",
      "(720, 1280, 3)\n",
      "(1280, 960, 3)\n",
      "(1280, 606, 3)\n",
      "(720, 1280, 3)\n",
      "(1280, 576, 3)\n",
      "(576, 1280, 3)\n",
      "(494, 476, 3)\n",
      "(1280, 591, 3)\n",
      "(1280, 576, 3)\n",
      "(720, 1280, 3)\n"
     ]
    }
   ],
   "source": [
    "import os \n",
    "\n",
    "os.chdir(r'C:\\Users\\Анна\\Desktop\\APPOPLEXY\\ATLAS\\!work with atlases\\samples')\n",
    "for img in os.listdir():\n",
    "    # load image\n",
    "    # print(img)\n",
    "    name = img\n",
    "    img = cv2.imread(img)\n",
    "    print(img.shape)\n",
    "    gray = cv2.cvtColor(img, cv2.COLOR_BGR2GRAY)\n",
    "    # threshold \n",
    "    thresh = cv2.threshold(gray, 0, 255, cv2.THRESH_BINARY+cv2.THRESH_OTSU)[1]\n",
    "    cropp(thresh, name)\n",
    "\n"
   ]
  },
  {
   "cell_type": "code",
   "execution_count": 18,
   "metadata": {},
   "outputs": [
    {
     "name": "stdout",
     "output_type": "stream",
     "text": [
      "(256, 256)\n"
     ]
    },
    {
     "ename": "error",
     "evalue": "OpenCV(4.8.1) D:\\a\\opencv-python\\opencv-python\\opencv\\modules\\imgproc\\src\\thresh.cpp:1555: error: (-2:Unspecified error) in function 'double __cdecl cv::threshold(const class cv::_InputArray &,const class cv::_OutputArray &,double,double,int)'\n> THRESH_OTSU mode:\n>     'src_type == CV_8UC1 || src_type == CV_16UC1'\n> where\n>     'src_type' is 6 (CV_64FC1)\n",
     "output_type": "error",
     "traceback": [
      "\u001b[1;31m---------------------------------------------------------------------------\u001b[0m",
      "\u001b[1;31merror\u001b[0m                                     Traceback (most recent call last)",
      "Cell \u001b[1;32mIn[18], line 15\u001b[0m\n\u001b[0;32m     12\u001b[0m \u001b[39mprint\u001b[39m(img_data[:, :,i]\u001b[39m.\u001b[39mT\u001b[39m.\u001b[39mshape)\n\u001b[0;32m     13\u001b[0m \u001b[39m# gray = cv2.cvtColor(img_data[:, :,i].T, cv2.COLOR_BGR2GRAY)\u001b[39;00m\n\u001b[0;32m     14\u001b[0m \u001b[39m# threshold \u001b[39;00m\n\u001b[1;32m---> 15\u001b[0m thresh \u001b[39m=\u001b[39m cv2\u001b[39m.\u001b[39;49mthreshold(img_data[:, :,i]\u001b[39m.\u001b[39;49mT, \u001b[39m0\u001b[39;49m, \u001b[39m255\u001b[39;49m, cv2\u001b[39m.\u001b[39;49mTHRESH_BINARY\u001b[39m+\u001b[39;49mcv2\u001b[39m.\u001b[39;49mTHRESH_OTSU)[\u001b[39m1\u001b[39m]\n\u001b[0;32m     16\u001b[0m cropp(thresh, \u001b[39mf\u001b[39m\u001b[39m'\u001b[39m\u001b[39m{\u001b[39;00mi\u001b[39m}\u001b[39;00m\u001b[39m.png\u001b[39m\u001b[39m'\u001b[39m)\n",
      "\u001b[1;31merror\u001b[0m: OpenCV(4.8.1) D:\\a\\opencv-python\\opencv-python\\opencv\\modules\\imgproc\\src\\thresh.cpp:1555: error: (-2:Unspecified error) in function 'double __cdecl cv::threshold(const class cv::_InputArray &,const class cv::_OutputArray &,double,double,int)'\n> THRESH_OTSU mode:\n>     'src_type == CV_8UC1 || src_type == CV_16UC1'\n> where\n>     'src_type' is 6 (CV_64FC1)\n"
     ]
    }
   ],
   "source": [
    "#попробуем сделать то же самое, но niigz\n",
    "import nibabel as nib\n",
    "from nilearn import image\n",
    "import os\n",
    "import cv2\n",
    "\n",
    "os.chdir(r'C:\\Users\\Анна\\Desktop\\APPOPLEXY\\ATLAS\\!work with atlases\\MRI')\n",
    "img = nib.load('dwi.nii.gz')\n",
    "img_3d = image.index_img(img, 0)\n",
    "img_data = img_3d.get_fdata()\n",
    "for i in range(img.shape[2]):\n",
    "    print(img_data[:, :,i].T.shape)\n",
    "    # gray = cv2.cvtColor(img_data[:, :,i].T, cv2.COLOR_BGR2GRAY)\n",
    "    # threshold \n",
    "    thresh = cv2.threshold(img_data[:, :,i].T, 0, 255, cv2.THRESH_BINARY+cv2.THRESH_OTSU)[1]\n",
    "    cropp(thresh, f'{i}.png')"
   ]
  }
 ],
 "metadata": {
  "kernelspec": {
   "display_name": "torch_env",
   "language": "python",
   "name": "python3"
  },
  "language_info": {
   "codemirror_mode": {
    "name": "ipython",
    "version": 3
   },
   "file_extension": ".py",
   "mimetype": "text/x-python",
   "name": "python",
   "nbconvert_exporter": "python",
   "pygments_lexer": "ipython3",
   "version": "3.10.12"
  },
  "orig_nbformat": 4
 },
 "nbformat": 4,
 "nbformat_minor": 2
}
